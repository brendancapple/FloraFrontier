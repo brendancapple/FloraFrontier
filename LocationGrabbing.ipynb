{
 "cells": [
  {
   "cell_type": "code",
   "execution_count": null,
   "metadata": {},
   "outputs": [],
   "source": [
    "import pandas as pd\n",
    "import os\n",
    "import base64\n",
    "import json\n",
    "import requests\n",
    "from io import StringIO"
   ]
  },
  {
   "cell_type": "code",
   "execution_count": null,
   "metadata": {},
   "outputs": [],
   "source": [
    "username = 'brendancapple'\n",
    "repository_name = 'FloraFrontier'"
   ]
  },
  {
   "cell_type": "code",
   "execution_count": null,
   "metadata": {},
   "outputs": [],
   "source": [
    "def github_read_file(username, repository_name, file_path, github_token=None):\n",
    "    headers = {}\n",
    "    if github_token:\n",
    "        headers['Authorization'] = f\"token {github_token}\"\n",
    "        \n",
    "    url = f'https://api.github.com/repos/{username}/{repository_name}/contents/{file_path}'\n",
    "    r = requests.get(url, headers=headers)\n",
    "    r.raise_for_status()\n",
    "    data = r.json() \n",
    "    file_content = data['content']\n",
    "    file_content_encoding = data.get('encoding')\n",
    "    if file_content_encoding == 'base64':\n",
    "        file_content = base64.b64decode(file_content).decode()\n",
    "\n",
    "    return file_content\n",
    "\n",
    "def load_distributionData(scientific):\n",
    "    content = github_read_file(username, repository_name, \"data/DistributionData_\" + scientific + \".csv\", github_token)\n",
    "    output = pd.read_csv(StringIO(content), sep=',', header=1)\n",
    "    return output\n"
   ]
  },
  {
   "cell_type": "code",
   "execution_count": null,
   "metadata": {},
   "outputs": [],
   "source": [
    "load_distributionData(\"triticumAestivum\")"
   ]
  },
  {
   "cell_type": "code",
   "execution_count": null,
   "metadata": {},
   "outputs": [],
   "source": []
  }
 ],
 "metadata": {
  "kernelspec": {
   "display_name": "Python 3",
   "language": "python",
   "name": "python3"
  },
  "language_info": {
   "codemirror_mode": {
    "name": "ipython",
    "version": 3
   },
   "file_extension": ".py",
   "mimetype": "text/x-python",
   "name": "python",
   "nbconvert_exporter": "python",
   "pygments_lexer": "ipython3",
   "version": "3.11.4"
  }
 },
 "nbformat": 4,
 "nbformat_minor": 2
}
