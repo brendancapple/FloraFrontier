{
 "cells": [
  {
   "cell_type": "code",
   "execution_count": 2,
   "metadata": {},
   "outputs": [],
   "source": [
    "import pandas as pd\n",
    "import os\n",
    "import base64\n",
    "import json\n",
    "import requests\n",
    "from io import StringIO"
   ]
  },
  {
   "cell_type": "code",
   "execution_count": null,
   "metadata": {},
   "outputs": [],
   "source": [
    "username = 'brendancapple'\n",
    "repository_name = 'FloraFrontier'\n"
   ]
  },
  {
   "cell_type": "code",
   "execution_count": 4,
   "metadata": {},
   "outputs": [],
   "source": [
    "def github_read_file(username, repository_name, file_path, github_token=None):\n",
    "    headers = {}\n",
    "    if github_token:\n",
    "        headers['Authorization'] = f\"token {github_token}\"\n",
    "        \n",
    "    url = f'https://api.github.com/repos/{username}/{repository_name}/contents/{file_path}'\n",
    "    r = requests.get(url, headers=headers)\n",
    "    r.raise_for_status()\n",
    "    data = r.json() \n",
    "    file_content = data['content']\n",
    "    file_content_encoding = data.get('encoding')\n",
    "    if file_content_encoding == 'base64':\n",
    "        file_content = base64.b64decode(file_content).decode()\n",
    "\n",
    "    return file_content\n",
    "\n",
    "def load_distributionData(scientific):\n",
    "    content = github_read_file(username, repository_name, \"data/DistributionData_\" + scientific + \".csv\", github_token)\n",
    "    output = pd.read_csv(StringIO(content), sep=',', header=1)\n",
    "    return output\n"
   ]
  },
  {
   "cell_type": "code",
   "execution_count": 63,
   "metadata": {},
   "outputs": [
    {
     "name": "stdout",
     "output_type": "stream",
     "text": [
      "triticumAestivum\n",
      "brassicaRapa\n",
      "glycineMax\n",
      "lactucaSativa\n",
      "solanumLycopersicum\n",
      "solanumTuberosum\n"
     ]
    }
   ],
   "source": [
    "load_list = ['triticumAestivum', 'brassicaRapa', 'glycineMax', 'lactucaSativa', 'solanumLycopersicum', 'solanumTuberosum']\n",
    "distribution_list = []\n",
    "\n",
    "for plant in load_list:\n",
    "    distribution_list.append(load_distributionData(plant))\n",
    "    print(plant)\n",
    "\n",
    "# load_distributionData(\"triticumAestivum\")\n",
    "\n",
    "# distribution_list[0]"
   ]
  },
  {
   "cell_type": "code",
   "execution_count": 78,
   "metadata": {},
   "outputs": [],
   "source": [
    "results_dictionary = dict()\n",
    "\n",
    "def dict_handling(a):\n",
    "    print(str(a) + \"\\n\")\n",
    "    key = str(a[0]) + \" - \" + str(a[1])\n",
    "\n",
    "    if key in results_dictionary:\n",
    "        results_dictionary[key] = results_dictionary[key] + 1\n",
    "    else:\n",
    "        results_dictionary[key] = 1\n",
    "\n",
    "for distribution in distribution_list:\n",
    "    # distribution.apply(dict_handling)\n",
    "    for index, row in distribution.iterrows():\n",
    "        # print(row['County'], row['State'] , row['Country'])\n",
    "        key = str(row['County']) + \" - \" + str(row['State']) + \" - \" + str(row['Country'])\n",
    "\n",
    "        if key in results_dictionary:\n",
    "            results_dictionary[key] = results_dictionary[key] + 1\n",
    "        else:\n",
    "            results_dictionary[key] = 1\n"
   ]
  },
  {
   "cell_type": "code",
   "execution_count": 87,
   "metadata": {},
   "outputs": [
    {
     "data": {
      "text/plain": [
       "1865"
      ]
     },
     "execution_count": 87,
     "metadata": {},
     "output_type": "execute_result"
    }
   ],
   "source": [
    "total_locations = sum(results_dictionary.values())\n",
    "total_locations"
   ]
  },
  {
   "cell_type": "code",
   "execution_count": 90,
   "metadata": {},
   "outputs": [
    {
     "data": {
      "text/html": [
       "<div>\n",
       "<style scoped>\n",
       "    .dataframe tbody tr th:only-of-type {\n",
       "        vertical-align: middle;\n",
       "    }\n",
       "\n",
       "    .dataframe tbody tr th {\n",
       "        vertical-align: top;\n",
       "    }\n",
       "\n",
       "    .dataframe thead th {\n",
       "        text-align: right;\n",
       "    }\n",
       "</style>\n",
       "<table border=\"1\" class=\"dataframe\">\n",
       "  <thead>\n",
       "    <tr style=\"text-align: right;\">\n",
       "      <th></th>\n",
       "      <th>County</th>\n",
       "      <th>Frequency</th>\n",
       "    </tr>\n",
       "  </thead>\n",
       "  <tbody>\n",
       "    <tr>\n",
       "      <th>238</th>\n",
       "      <td>Berkshire - Massachusetts - United States</td>\n",
       "      <td>6</td>\n",
       "    </tr>\n",
       "    <tr>\n",
       "      <th>112</th>\n",
       "      <td>nan - Illinois - United States</td>\n",
       "      <td>6</td>\n",
       "    </tr>\n",
       "    <tr>\n",
       "      <th>357</th>\n",
       "      <td>nan - New York - United States</td>\n",
       "      <td>6</td>\n",
       "    </tr>\n",
       "    <tr>\n",
       "      <th>288</th>\n",
       "      <td>nan - Missouri - United States</td>\n",
       "      <td>6</td>\n",
       "    </tr>\n",
       "    <tr>\n",
       "      <th>445</th>\n",
       "      <td>Northampton - Pennsylvania - United States</td>\n",
       "      <td>6</td>\n",
       "    </tr>\n",
       "    <tr>\n",
       "      <th>1</th>\n",
       "      <td>nan - Alabama - United States</td>\n",
       "      <td>6</td>\n",
       "    </tr>\n",
       "    <tr>\n",
       "      <th>443</th>\n",
       "      <td>Montgomery - Pennsylvania - United States</td>\n",
       "      <td>6</td>\n",
       "    </tr>\n",
       "    <tr>\n",
       "      <th>403</th>\n",
       "      <td>nan - Ohio - United States</td>\n",
       "      <td>6</td>\n",
       "    </tr>\n",
       "    <tr>\n",
       "      <th>248</th>\n",
       "      <td>nan - Michigan - United States</td>\n",
       "      <td>6</td>\n",
       "    </tr>\n",
       "    <tr>\n",
       "      <th>440</th>\n",
       "      <td>Lehigh - Pennsylvania - United States</td>\n",
       "      <td>6</td>\n",
       "    </tr>\n",
       "    <tr>\n",
       "      <th>421</th>\n",
       "      <td>nan - Pennsylvania - United States</td>\n",
       "      <td>6</td>\n",
       "    </tr>\n",
       "    <tr>\n",
       "      <th>236</th>\n",
       "      <td>nan - Massachusetts - United States</td>\n",
       "      <td>6</td>\n",
       "    </tr>\n",
       "    <tr>\n",
       "      <th>428</th>\n",
       "      <td>Bucks - Pennsylvania - United States</td>\n",
       "      <td>6</td>\n",
       "    </tr>\n",
       "    <tr>\n",
       "      <th>71</th>\n",
       "      <td>nan - Ontario - Canada</td>\n",
       "      <td>6</td>\n",
       "    </tr>\n",
       "    <tr>\n",
       "      <th>447</th>\n",
       "      <td>Philadelphia - Pennsylvania - United States</td>\n",
       "      <td>5</td>\n",
       "    </tr>\n",
       "    <tr>\n",
       "      <th>250</th>\n",
       "      <td>Berrien - Michigan - United States</td>\n",
       "      <td>5</td>\n",
       "    </tr>\n",
       "    <tr>\n",
       "      <th>41</th>\n",
       "      <td>nan - California - United States</td>\n",
       "      <td>5</td>\n",
       "    </tr>\n",
       "    <tr>\n",
       "      <th>383</th>\n",
       "      <td>nan - North Carolina - United States</td>\n",
       "      <td>5</td>\n",
       "    </tr>\n",
       "    <tr>\n",
       "      <th>567</th>\n",
       "      <td>nan - Puerto Rico - United States</td>\n",
       "      <td>5</td>\n",
       "    </tr>\n",
       "    <tr>\n",
       "      <th>82</th>\n",
       "      <td>nan - Connecticut - United States</td>\n",
       "      <td>5</td>\n",
       "    </tr>\n",
       "  </tbody>\n",
       "</table>\n",
       "</div>"
      ],
      "text/plain": [
       "                                          County  Frequency\n",
       "238    Berkshire - Massachusetts - United States          6\n",
       "112               nan - Illinois - United States          6\n",
       "357               nan - New York - United States          6\n",
       "288               nan - Missouri - United States          6\n",
       "445   Northampton - Pennsylvania - United States          6\n",
       "1                  nan - Alabama - United States          6\n",
       "443    Montgomery - Pennsylvania - United States          6\n",
       "403                   nan - Ohio - United States          6\n",
       "248               nan - Michigan - United States          6\n",
       "440        Lehigh - Pennsylvania - United States          6\n",
       "421           nan - Pennsylvania - United States          6\n",
       "236          nan - Massachusetts - United States          6\n",
       "428         Bucks - Pennsylvania - United States          6\n",
       "71                        nan - Ontario - Canada          6\n",
       "447  Philadelphia - Pennsylvania - United States          5\n",
       "250           Berrien - Michigan - United States          5\n",
       "41              nan - California - United States          5\n",
       "383         nan - North Carolina - United States          5\n",
       "567            nan - Puerto Rico - United States          5\n",
       "82             nan - Connecticut - United States          5"
      ]
     },
     "execution_count": 90,
     "metadata": {},
     "output_type": "execute_result"
    }
   ],
   "source": [
    "combined_distribution = pd.DataFrame(results_dictionary.items(), columns = ['County', 'Frequency'])\n",
    "combined_distribution = combined_distribution.sort_values(by='Frequency', ascending=False)\n",
    "\n",
    "combined_distribution.head(20)"
   ]
  },
  {
   "cell_type": "code",
   "execution_count": null,
   "metadata": {},
   "outputs": [],
   "source": []
  }
 ],
 "metadata": {
  "kernelspec": {
   "display_name": "Python 3",
   "language": "python",
   "name": "python3"
  },
  "language_info": {
   "codemirror_mode": {
    "name": "ipython",
    "version": 3
   },
   "file_extension": ".py",
   "mimetype": "text/x-python",
   "name": "python",
   "nbconvert_exporter": "python",
   "pygments_lexer": "ipython3",
   "version": "3.11.4"
  }
 },
 "nbformat": 4,
 "nbformat_minor": 2
}
