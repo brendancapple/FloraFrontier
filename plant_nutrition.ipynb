{
 "cells": [
  {
   "cell_type": "code",
   "execution_count": 94,
   "metadata": {},
   "outputs": [
    {
     "name": "stdout",
     "output_type": "stream",
     "text": [
      "                     common_name                scientific_name        family  \\\n",
      "2586  Mizuna, Cut0leaf mustard,   Brassica juncea var. japonica  Brassicaceae   \n",
      "\n",
      "     edible_part  moisture Energy_KJ Energy_KCal Protein_g Provit_A_ug  \\\n",
      "2586         NaN       NaN         0           0         0           0   \n",
      "\n",
      "     Vit_C_mg Iron_mg Zinc_mg  \n",
      "2586        0       0       0  \n",
      "      Energy_KJ Energy_KCal Protein_g Provit_A_ug Vit_C_mg Iron_mg Zinc_mg\n",
      "0             0           0         0           0        0       0       0\n",
      "1             0           0         0           0        0       0       0\n",
      "2           120          29       3.4         1.0      7.0     1.5     1.2\n",
      "3             0           0         0           0        0       0       0\n",
      "4             0           0       2.3           0        0       0       0\n",
      "...         ...         ...       ...         ...      ...     ...     ...\n",
      "36970         0           0         0           0        0       0       0\n",
      "36971         0           0         0           0        0       0       0\n",
      "36972         0           0         0           0        0       0       0\n",
      "36973         0           0         0           0        0       0       0\n",
      "36974         0           0         0           0        0       0       0\n",
      "\n",
      "[36975 rows x 7 columns]\n"
     ]
    }
   ],
   "source": [
    "import pandas as pd\n",
    "plt_nutrition = pd.read_csv('FPI_Nutrition.csv')\n",
    "plt_nutrition.columns = ['common_name','scientific_name','family','edible_part','moisture','Energy_KJ','Energy_KCal','Protein_g','Provit_A_ug','Vit_C_mg','Iron_mg','Zinc_mg']\n",
    "#plt_nutrition.head()\n",
    "\n",
    "#plt_nutrition[plt_nutrition['scientific_name'] == 'Brassica juncea var. japonica'] #plt_nutrition['family'] == 'Brassicaceae'\n",
    "#plt_nutrition.fillna('-')\n",
    "#plt_nutrition[plt_nutrition['common_name'].contains('Apple')] #.str.contains('Apple')\n",
    "\n",
    "#for partial search\n",
    "print(plt_nutrition[plt_nutrition['common_name'].str.contains(\"Mizuna\")==True])\n",
    "\n",
    "#print(plt_nutrition['Vit_C_mg'])\n",
    "\n",
    "filtered_df = plt_nutrition.dropna(axis=1)\n",
    "print(filtered_df)\n",
    "\n",
    "plt_nutrition['Vit_C_mg'] = pd.to_numeric(plt_nutrition['Vit_C_mg'], errors='coerce')\n",
    "mask = (plt_nutrition['Vit_C_mg'] >= 100) & (plt_nutrition['scientific_name'] == 'NaN')\n",
    "vitChundred = plt_nutrition[mask]\n"
   ]
  }
 ],
 "metadata": {
  "kernelspec": {
   "display_name": ".venv",
   "language": "python",
   "name": "python3"
  },
  "language_info": {
   "codemirror_mode": {
    "name": "ipython",
    "version": 3
   },
   "file_extension": ".py",
   "mimetype": "text/x-python",
   "name": "python",
   "nbconvert_exporter": "python",
   "pygments_lexer": "ipython3",
   "version": "3.9.6"
  }
 },
 "nbformat": 4,
 "nbformat_minor": 2
}
