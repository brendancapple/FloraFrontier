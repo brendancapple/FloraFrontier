{
 "cells": [
  {
   "cell_type": "code",
   "execution_count": 31,
   "metadata": {},
   "outputs": [
    {
     "data": {
      "text/html": [
       "<div>\n",
       "<style scoped>\n",
       "    .dataframe tbody tr th:only-of-type {\n",
       "        vertical-align: middle;\n",
       "    }\n",
       "\n",
       "    .dataframe tbody tr th {\n",
       "        vertical-align: top;\n",
       "    }\n",
       "\n",
       "    .dataframe thead th {\n",
       "        text-align: right;\n",
       "    }\n",
       "</style>\n",
       "<table border=\"1\" class=\"dataframe\">\n",
       "  <thead>\n",
       "    <tr style=\"text-align: right;\">\n",
       "      <th></th>\n",
       "      <th>common_name</th>\n",
       "      <th>scientific_name</th>\n",
       "      <th>family</th>\n",
       "      <th>edible_part</th>\n",
       "      <th>moisture</th>\n",
       "      <th>Energy_KJ</th>\n",
       "      <th>Energy_KCal</th>\n",
       "      <th>Protein</th>\n",
       "      <th>Provit_A</th>\n",
       "      <th>Vit_C</th>\n",
       "      <th>Iron</th>\n",
       "      <th>Zinc</th>\n",
       "    </tr>\n",
       "  </thead>\n",
       "  <tbody>\n",
       "    <tr>\n",
       "      <th>2586</th>\n",
       "      <td>Mizuna, Cut-leaf mustard,</td>\n",
       "      <td>Brassica juncea var. japonica</td>\n",
       "      <td>Brassicaceae</td>\n",
       "      <td>NaN</td>\n",
       "      <td>NaN</td>\n",
       "      <td>-</td>\n",
       "      <td>-</td>\n",
       "      <td>-</td>\n",
       "      <td>-</td>\n",
       "      <td>-</td>\n",
       "      <td>-</td>\n",
       "      <td>-</td>\n",
       "    </tr>\n",
       "  </tbody>\n",
       "</table>\n",
       "</div>"
      ],
      "text/plain": [
       "                     common_name                scientific_name        family  \\\n",
       "2586  Mizuna, Cut-leaf mustard,   Brassica juncea var. japonica  Brassicaceae   \n",
       "\n",
       "     edible_part  moisture Energy_KJ Energy_KCal Protein Provit_A Vit_C Iron  \\\n",
       "2586         NaN       NaN         -           -       -        -     -    -   \n",
       "\n",
       "     Zinc  \n",
       "2586    -  "
      ]
     },
     "execution_count": 31,
     "metadata": {},
     "output_type": "execute_result"
    }
   ],
   "source": [
    "import pandas as pd\n",
    "plt_nutrition = pd.read_csv('FoodPlantsInternationalNutritionalData.csv')\n",
    "plt_nutrition.columns = ['common_name','scientific_name','family','edible_part','moisture','Energy_KJ','Energy_KCal','Protein','Provit_A','Vit_C','Iron','Zinc']\n",
    "plt_nutrition.head()\n",
    "plt_nutrition[plt_nutrition['scientific_name'] == 'Brassica juncea var. japonica'] #plt_nutrition['family'] == 'Brassicaceae'\n"
   ]
  }
 ],
 "metadata": {
  "kernelspec": {
   "display_name": ".venv",
   "language": "python",
   "name": "python3"
  },
  "language_info": {
   "codemirror_mode": {
    "name": "ipython",
    "version": 3
   },
   "file_extension": ".py",
   "mimetype": "text/x-python",
   "name": "python",
   "nbconvert_exporter": "python",
   "pygments_lexer": "ipython3",
   "version": "3.9.6"
  }
 },
 "nbformat": 4,
 "nbformat_minor": 2
}
